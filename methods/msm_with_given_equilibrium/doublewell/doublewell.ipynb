{
 "cells": [
  {
   "cell_type": "markdown",
   "metadata": {},
   "source": [
    "Doublewell potential\n",
    "===========\n",
    "\n",
    "In this notebook we study the rare-event kinetics of a Markov jump process in the asymmetric doublewell potential. The neighborhood of the two minima of the potential are the interesting meta-stable sets for the jump-process. \n",
    "\n",
    "We focuss our study on the largest relaxation time-scale, $t_2$ of the system. The largest relaxation time-scale describes the relaxation time-scale for an average starting distribution to relax to the equilibrium distribution (stationary vector/invariant distribution) of the Markov jump-process.\n",
    "\n",
    "We show that this timescale can be efficiently estimated if short relaxation trajectories (starting on the barrier) and the stationary vector are combined using reversible MSMs.\n",
    "\n",
    "We compare the estimated values with those obtained from an ensemble of long trajectories using the standard approach (non-reversible MSM, no additional information about stationary probabilities) and show that the timescale value can be reliably estimated with much smaller total simulation effort if additional knowledge about the stationary probabilities is available during MSM estimation.\n",
    "\n",
    "We carry out a full Bayesian posterior analysis to quantify the uncertainties of all estimates and show that orders of magnitude speedup can be achieved if short relaxation trajectories are used in combination information about the stationary vector of the Markov process."
   ]
  },
  {
   "cell_type": "markdown",
   "metadata": {},
   "source": [
    "We start with a few general imports and settings"
   ]
  },
  {
   "cell_type": "code",
   "execution_count": 1,
   "metadata": {
    "collapsed": true
   },
   "outputs": [],
   "source": [
    "% matplotlib inline\n",
    "import numpy as np\n",
    "import matplotlib.pyplot as plt\n",
    "import matplotlib.ticker as mtick\n",
    "import msmtools.generation as msmgen\n",
    "import pyemma.msm as msm"
   ]
  },
  {
   "cell_type": "markdown",
   "metadata": {},
   "source": [
    "Setting up the system\n",
    "-------------------------\n",
    "\n",
    "We define the functional form for the asymmetric doublewell potential, $V(x)$ and specify the potential parameters, $s$, $d$, giving rise to meta-stable dynamics.\n",
    "\n",
    "To carry out MSM analysis we need to discretize the continous space into finitely many non-overlapping sets. We choose $n_x=100$ equally spaced bins to discretize the interval $[-L, L]$ with $L=3.4$. We restrict our process to this set since the probability to find the process outside this interval is neglegible.\n",
    "\n",
    "We obtain the stationary probabilities for the process according to the standard Boltzmann weights\n",
    "\n",
    "$$ \\pi_i = Z^{-1} e^{-\\beta V(x_i)} $$\n",
    "\n",
    "with $\\beta$ the inverse temperature and $Z$ determined by the normalisation condition,\n",
    "\n",
    "$$ \\sum_i \\pi_i = 1. $$\n",
    "\n",
    "The system dynamics are given by a transition matrix of conditional jump probabilities, $P=(p_{ij})$, with \n",
    "\n",
    "$$ p_{ij} = \n",
    "\\begin{cases} \n",
    "        0.5 \\min \\left\\{ 1, \\frac{\\pi_j}{\\pi_i} \\right \\} &\\mbox{if } j = i \\pm 1 \\\\\n",
    "        1 - \\sum_{j \\neq i} p_{ij} & \\mbox{if } j=i \\\\\n",
    "        0 & \\mbox{else}\n",
    "\\end{cases}\n",
    "$$\n",
    "\n",
    "given according to the Metropolis-Rosenbluth rule [4].\n",
    "\n",
    "Finally we can compute the reference relaxation timescales from the transition matrix."
   ]
  },
  {
   "cell_type": "code",
   "execution_count": 2,
   "metadata": {
    "collapsed": false
   },
   "outputs": [
    {
     "name": "stdout",
     "output_type": "stream",
     "text": [
      "The largest relaxation timescale for the process is 1.415e+06 steps\n"
     ]
    },
    {
     "data": {
      "image/png": "[encoded data removed]",
      "text/plain": [
       "<matplotlib.figure.Figure at 0x7f02d2b86ed0>"
      ]
     },
     "metadata": {},
     "output_type": "display_data"
    }
   ],
   "source": [
    "def V(x, s, d):\n",
    "    return (x**2-s**2)**2 + s*d*(1.0/3*x**3 - s**2*x)\n",
    "# Potential parameters\n",
    "s = 2.2\n",
    "d = 0.1\n",
    "# Discretisation\n",
    "L = 3.4\n",
    "nx = 100\n",
    "xedges = np.linspace(-L, L, nx+1)\n",
    "dx = xedges[1]-xedges[0]\n",
    "xcenters = xedges[0:-1]+0.5*dx\n",
    "# Stationary vector\n",
    "kB=8.314472471220217*1e-3 # kJ/(K*mol)\n",
    "T=300.0 # K\n",
    "beta=1.0/(kB*T) # mol/kJ\n",
    "nu_ref = np.exp(-beta*V(xcenters, s, d))\n",
    "pi_ref = nu_ref/nu_ref.sum()\n",
    "# Metropolis-Rosenbluth transition matrix\n",
    "P_ref = msmgen.transition_matrix_metropolis_1d(beta*V(xcenters, s, d))\n",
    "msm_ref = msm.markov_model(P_ref)\n",
    "# Plot potential and stationary vector values at centers\n",
    "fig = plt.figure()\n",
    "ax1 = fig.add_subplot(211)\n",
    "ax1.plot(xcenters, V(xcenters, s, d))\n",
    "ax2 = fig.add_subplot(212)\n",
    "ax2.plot(xcenters, pi_ref)\n",
    "# Compute reference relaxation time scales\n",
    "print \"The largest relaxation timescale for the process is %.3e steps\" %msm_ref.timescales(1)"
   ]
  },
  {
   "cell_type": "markdown",
   "metadata": {},
   "source": [
    "MSM from long trajectories\n",
    "------------------------------\n",
    "\n",
    "Now we build a standard MSM (non-reversible, no additional information about the stationary vector)\n",
    "using a set of $M=10$ trajectories of length $L=10000 \\Delta t$ saved at a timestep $\\Delta t_{long} = 1000$ steps.\n",
    "\n",
    "All trajectories start at the minimum of the potential $x_0 = s$ and evolve according to the transition probabilities of the process at timestep $\\Delta t$.\n",
    "\n",
    "$$ P(\\Delta t) = P^{\\Delta t}. $$\n",
    "\n",
    "The generated trajectories are used to estimate a MSM for the dynamics at timestep $\\Delta t$. Since the dynamics was already Markovian at $\\Delta t = 1$ we can choose a lagtime $\\tau = 1$. The maximum likelihood relaxation timescale, $\\hat{t}_2$, can now be computed from the estimated MSM."
   ]
  },
  {
   "cell_type": "code",
   "execution_count": 3,
   "metadata": {
    "collapsed": true
   },
   "outputs": [],
   "source": [
    "start = np.argmin(np.abs(xcenters-s))\n",
    "dt_long = 1000\n",
    "dtrajs_long = msmgen.generate_trajs(P_ref, 100, 10000, dt=dt_long, start=start)"
   ]
  },
  {
   "cell_type": "code",
   "execution_count": 4,
   "metadata": {
    "collapsed": false
   },
   "outputs": [
    {
     "name": "stdout",
     "output_type": "stream",
     "text": [
      "Maximum likelihood value from MSM is 1.485659e+06 steps\n"
     ]
    }
   ],
   "source": [
    "tau = 1\n",
    "msm_nrev = msm.estimate_markov_model(dtrajs_long, tau)\n",
    "print \"Maximum likelihood value from MSM is %.6e steps\" %(msm_nrev.timescales(1)*dt_long)"
   ]
  },
  {
   "cell_type": "markdown",
   "metadata": {
    "collapsed": false
   },
   "source": [
    "Computing errors\n",
    "-------------------\n",
    "To quantify the uncertainty of the estimated timescale we need to carry out a Bayesian posterior analysis, c.f. [3].\n",
    "\n",
    "We draw transition matrices from the posterior ensemble and compute the timescale for each sampled transition matrix. The errors of our estimate can then assessed by the sample standard deviation."
   ]
  },
  {
   "cell_type": "code",
   "execution_count": 5,
   "metadata": {
    "collapsed": false
   },
   "outputs": [
    {
     "name": "stdout",
     "output_type": "stream",
     "text": [
      "The estimated sample mean is 1.462e+06 \n",
      "The estimated standard deviation is 1.013e+05 \n",
      "The relative error of the estimate is 6.9%\n"
     ]
    }
   ],
   "source": [
    "bmsm = msm.bayesian_markov_model(dtrajs_long, tau, count_mode='sample', reversible=False)\n",
    "print \"The estimated sample mean is %.3e \" %(bmsm.sample_mean('timescales', 1)*dt_long)\n",
    "print \"The estimated standard deviation is %.3e \" %(bmsm.sample_std('timescales', 1)*dt_long)\n",
    "print \"The relative error of the estimate is %.1f\" %(100.0*bmsm.sample_std('timescales', 1)/bmsm.sample_mean('timescales', 1)) +\"%\""
   ]
  },
  {
   "cell_type": "markdown",
   "metadata": {},
   "source": [
    "MSM with fixed stationary vector and short 'downhill' trajectories\n",
    "----------------------------------------------------------------------------\n",
    "\n",
    "Estimates of the stationary probabilities can be obtained from enhanced sampling simulations using appropriate reweighting techniques (WHAM, MBAR, TRAM). The amount of data required to obtain reliable estimates can be orders of magnitude smaller than those required to obtain a good estimate from data generated using a standard simulation protocol, e.g. standard MD.\n",
    "\n",
    "There is an additional cost for the enhanced sampling simulations. The obtained estimates also come with a statistical uncertainty which can be quantified using bootstrap resampling techniques.\n",
    "\n",
    "We use a stationary vector obtained from $1000 \\Delta t_{short}$ steps of umbrella sampling simulations and a set of $10000$ short trajectories of length $100 \\Delta t_{short}$ starting on the barrier to estimate the relaxation timescale.\n",
    "\n",
    "We also use a bootstrap sample of stationary vectors to quantify the errors resulting from the combined uncertainty of stationary vector estimate and finite amount of trajectories used.\n",
    "\n",
    "The short trajectories start on the barrier and rapidly relax to the high probability regions around the potential minima. Using information about the stationary vector we can estimate the relaxation timescale using only short simulations that do not need to cross the barrier between the two meta-stable regions."
   ]
  },
  {
   "cell_type": "code",
   "execution_count": 6,
   "metadata": {
    "collapsed": false
   },
   "outputs": [],
   "source": [
    "start = np.argmin(np.abs(xcenters + s*d/4.0))\n",
    "dt_short = 10\n",
    "dtrajs_short = msmgen.generate_trajs(P_ref, 10000, 100, dt=dt_short, start=start)\n",
    "pi_bs = np.load('data/stationary_vector_bs.npy')[3, :, :]\n",
    "n_bs = pi_bs.shape[0]\n",
    "n_samples = 10"
   ]
  },
  {
   "cell_type": "code",
   "execution_count": 7,
   "metadata": {
    "collapsed": false,
    "scrolled": true
   },
   "outputs": [
    {
     "name": "stdout",
     "output_type": "stream",
     "text": [
      "Maximum likelihood value from MSM with fixed stationary vector\n",
      "1.413e+06 steps\n"
     ]
    }
   ],
   "source": [
    "msm_revpi = msm.estimate_markov_model(dtrajs_short, tau, statdist=pi_ref)\n",
    "print \"Maximum likelihood value from MSM with fixed stationary vector\"\n",
    "print \"%.3e steps\" %(msm_revpi.timescales(1)*dt_short)"
   ]
  },
  {
   "cell_type": "markdown",
   "metadata": {},
   "source": [
    "Computing errors\n",
    "-------------------\n",
    "\n",
    "We again perform a Bayesian posterior analysis. Now for the ensemble of transition matrices reversible with respect to a given stationary vector, c.f. [3].\n",
    "\n",
    "We show that for two orders of magnitude less simulation effort we get a drastically reduced error of our estimate if the stationary vector is used in combination with short trajectories relaxing from the barrier."
   ]
  },
  {
   "cell_type": "code",
   "execution_count": 8,
   "metadata": {
    "collapsed": false
   },
   "outputs": [
    {
     "name": "stdout",
     "output_type": "stream",
     "text": [
      "The estimated sample mean is 1.415e+08 \n",
      "The estimated standard deviation is 5.685e+05 \n",
      "The relative error of the estimate is 0.4%\n"
     ]
    }
   ],
   "source": [
    "bmsm_revpi = msm.bayesian_markov_model(dtrajs_short, tau, statdist=pi_ref, count_mode='sample', nsamples=100)\n",
    "print \"The estimated sample mean is %.3e \" %(bmsm_revpi.sample_mean('timescales', 1)*dt_long)\n",
    "print \"The estimated standard deviation is %.3e \" %(bmsm_revpi.sample_std('timescales', 1)*dt_long)\n",
    "print \"The relative error of the estimate is %.1f\" %(100.0*bmsm_revpi.sample_std('timescales', 1)/bmsm_revpi.sample_mean('timescales', 1)) +\"%\""
   ]
  },
  {
   "cell_type": "markdown",
   "metadata": {},
   "source": [
    "Combined uncertainty\n",
    "-----------------------\n",
    "The relative error taking also into account the uncertainty in the stationary vector will be larger than the relative error taking into account only the finite amount of simulation data used.\n",
    " \n",
    "We have to generate samples for each of the stationary vectors in the bootstrap, that can take a couple of minutes."
   ]
  },
  {
   "cell_type": "code",
   "execution_count": 9,
   "metadata": {
    "collapsed": true
   },
   "outputs": [],
   "source": [
    "def sample_ts_bs(dtraj_list, pi_bs, n_samples, verbose=False):\n",
    "    n_bs = pi_bs.shape[0]\n",
    "    sample = np.zeros((n_bs*n_samples))    \n",
    "    for i in range(n_bs):\n",
    "        if verbose:\n",
    "            print \"Iteration %i of %i\" %(i+1, n_bs)\n",
    "        pi = pi_bs[i, :]\n",
    "        bmsm_revpi = msm.bayesian_markov_model(dtraj_list, tau, statdist=pi_ref, \n",
    "                                               count_mode='sample', nsamples=n_samples, show_progress=False)\n",
    "        sample[i*n_samples:(i+1)*n_samples] = bmsm_revpi.sample_f('timescales', 1)\n",
    "    return sample"
   ]
  },
  {
   "cell_type": "code",
   "execution_count": 10,
   "metadata": {
    "collapsed": false
   },
   "outputs": [
    {
     "name": "stdout",
     "output_type": "stream",
     "text": [
      "The estimated sample mean is 1.414e+06 steps\n",
      "The estimated standard deviation is 6.245e+03 steps\n",
      "The relative error of the estimate is 0.4%\n"
     ]
    }
   ],
   "source": [
    "samples = sample_ts_bs(dtrajs_short, pi_bs, n_samples)\n",
    "print \"The estimated sample mean is %.3e steps\" %(np.mean(samples)*dt_short)\n",
    "print \"The estimated standard deviation is %.3e steps\" %(np.std(samples)*dt_short)\n",
    "print \"The relative error of the estimate is %.1f\" %(100.0*np.std(samples)/np.mean(samples)) +\"%\""
   ]
  },
  {
   "cell_type": "markdown",
   "metadata": {},
   "source": [
    "Error versus total simulation effort\n",
    "-----------------------------------------\n",
    "\n",
    "To study the uncertainty of the estimates for increasing amount of simulation data we need to estimate mean and uncertainty for an increasing number of short trajectories. Due to the large number of samples required to estimate a single data-point the evaluation of the below cells can take some time.\n",
    "\n",
    "The results show that the relaxation time-scale can be reliably estimated before a single rare-event would have occured on average if short relaxation trajectories are used in combination with stationary probabilities estimated from enhanced sampling simulations."
   ]
  },
  {
   "cell_type": "code",
   "execution_count": 11,
   "metadata": {
    "collapsed": true
   },
   "outputs": [],
   "source": [
    "def generate_stats(dtraj_list, N_dtrajs, pi_bs, n_samples):\n",
    "    data = np.zeros((len(N_dtrajs), 2))\n",
    "    for i in range(len(N_dtrajs)):\n",
    "        print \"Iteration %i of %i\" %(i+1, len(N_dtrajs))\n",
    "        \"\"\"Number of trajectories to use\"\"\"\n",
    "        N = N_dtrajs[i] \n",
    "        sample = sample_ts_bs(dtraj_list[0:N], pi_bs, n_samples)\n",
    "        data[i, 0] = np.mean(sample*dt_short)\n",
    "        data[i, 1] = np.std(sample*dt_short)\n",
    "    return data\n",
    "\n",
    "def generate_stats_optimal(dtraj_list, N_dtrajs, pi_bs_list, n_samples):\n",
    "    data = np.zeros((len(N_dtrajs), 2))\n",
    "    for i in range(len(N_dtrajs)):\n",
    "        print \"Iteration %i of %i\" %(i+1, len(N_dtrajs))\n",
    "        \"\"\"Number of trajectories to use\"\"\"\n",
    "        N = N_dtrajs[i] \n",
    "        sample = sample_ts_bs(dtraj_list[0:N], pi_bs_list[i, :, :], n_samples)\n",
    "        data[i, 0] = np.mean(sample*dt_short)\n",
    "        data[i, 1] = np.std(sample*dt_short)\n",
    "    return data\n",
    "\n",
    "def generate_stats_nrev(dtraj_list, N_dtrajs, n_samples):\n",
    "    data = np.zeros((len(N_dtrajs), 2))\n",
    "    for i in range(len(N_dtrajs)):\n",
    "        print \"Iteration %i of %i\" %(i+1, len(N_dtrajs))\n",
    "        \"\"\"Number of trajectories to use\"\"\"\n",
    "        N = N_dtrajs[i] \n",
    "        bmsm = msm.bayesian_markov_model(dtraj_list[0:N], tau, count_mode='sample', \n",
    "                                         nsamples=n_samples, show_progress=False)\n",
    "        sample = np.asarray(bmsm.sample_f('timescales', 1))\n",
    "        data[i, 0] = np.mean(sample*dt_long)\n",
    "        data[i, 1] = np.std(sample*dt_long)\n",
    "    return data\n",
    "\n",
    "stationary_vector_bs = np.load('data/stationary_vector_bs.npy')"
   ]
  },
  {
   "cell_type": "code",
   "execution_count": 12,
   "metadata": {
    "collapsed": false,
    "scrolled": true
   },
   "outputs": [
    {
     "name": "stdout",
     "output_type": "stream",
     "text": [
      "Iteration 1 of 7\n",
      "Iteration 2 of 7\n",
      "Iteration 3 of 7\n",
      "Iteration 4 of 7\n",
      "Iteration 5 of 7\n",
      "Iteration 6 of 7\n",
      "Iteration 7 of 7\n"
     ]
    }
   ],
   "source": [
    "N_dtraj = np.array([100, 200, 500, 1000, 2000, 5000, 10000])\n",
    "pi_bs = stationary_vector_bs[3, :, :]\n",
    "effort_short = N_dtraj * 100 * dt_short + 100000*dt_short # N_C + N_pi in dt\n",
    "data_short = generate_stats(dtrajs_short, N_dtraj, pi_bs, n_samples)"
   ]
  },
  {
   "cell_type": "code",
   "execution_count": 13,
   "metadata": {
    "collapsed": false
   },
   "outputs": [
    {
     "name": "stdout",
     "output_type": "stream",
     "text": [
      "Iteration 1 of 7\n",
      "Iteration 2 of 7\n",
      "Iteration 3 of 7\n",
      "Iteration 4 of 7\n",
      "Iteration 5 of 7\n",
      "Iteration 6 of 7\n",
      "Iteration 7 of 7\n"
     ]
    }
   ],
   "source": [
    "N_dtraj = np.array([100, 200, 500, 1000, 2000, 5000, 10000])\n",
    "pi_bs = stationary_vector_bs[6, :, :]\n",
    "effort_long = N_dtraj * 100 * dt_short + 1000000*dt_short # N_C + N_pi in ns\n",
    "data_long = generate_stats(dtrajs_short, N_dtraj, pi_bs, n_samples)"
   ]
  },
  {
   "cell_type": "code",
   "execution_count": 14,
   "metadata": {
    "collapsed": false
   },
   "outputs": [
    {
     "name": "stdout",
     "output_type": "stream",
     "text": [
      "Iteration 1 of 5\n",
      "Iteration 2 of 5\n",
      "Iteration 3 of 5\n",
      "Iteration 4 of 5\n",
      "Iteration 5 of 5\n"
     ]
    }
   ],
   "source": [
    "N_dtraj = np.array([5, 10, 20, 50, 100])\n",
    "effort_nrev = N_dtraj*10000*dt_long  # N_C + N_pi in ns\n",
    "data_nrev = generate_stats_nrev(dtrajs_long, N_dtraj, n_samples*n_bs)"
   ]
  },
  {
   "cell_type": "code",
   "execution_count": 15,
   "metadata": {
    "collapsed": false
   },
   "outputs": [
    {
     "name": "stdout",
     "output_type": "stream",
     "text": [
      "Iteration 1 of 6\n",
      "Iteration 2 of 6\n",
      "Iteration 3 of 6\n",
      "Iteration 4 of 6\n",
      "Iteration 5 of 6\n",
      "Iteration 6 of 6\n"
     ]
    }
   ],
   "source": [
    "N_dtraj = np.array([200, 500, 1000, 2000, 5000, 10000])\n",
    "effort_optimal = N_dtraj*100*dt_short*2\n",
    "data_optimal = generate_stats_optimal(dtrajs_short, N_dtraj, stationary_vector_bs, n_samples)"
   ]
  },
  {
   "cell_type": "code",
   "execution_count": 19,
   "metadata": {
    "collapsed": false
   },
   "outputs": [
    {
     "data": {
      "text/plain": [
       "<matplotlib.legend.Legend at 0x7f02a2f44750>"
      ]
     },
     "execution_count": 19,
     "metadata": {},
     "output_type": "execute_result"
    },
    {
     "data": {
      "image/png": "[encoded data removed]",
      "text/plain": [
       "<matplotlib.figure.Figure at 0x7f0299a36090>"
      ]
     },
     "metadata": {},
     "output_type": "display_data"
    }
   ],
   "source": [
    "fig = plt.figure()\n",
    "ax = fig.add_subplot(111)\n",
    "ax.set_xlabel(r\"Simulation effort, $N$, in steps\")\n",
    "ax.set_ylabel(r\"Relaxation time-scale, $t_2$, in steps\")\n",
    "ax.set_xscale('log')\n",
    "ax.yaxis.set_major_formatter(mtick.FormatStrFormatter('%.1e'))\n",
    "ax.set_xlim(2e5, 2e9)\n",
    "ax.axhline(1.415e6, ls='--', c='k')\n",
    "ax.errorbar(effort_nrev, data_nrev[:, 0], yerr=data_nrev[:, 1], ls=' ', marker='^',\n",
    "           label=r\"$N_{\\pi}=0$\")\n",
    "ax.errorbar(effort_short, data_short[:, 0], yerr=data_short[:, 1], ls=' ', marker='x',\n",
    "        label=r\"$N_{\\pi}=1e6$\")\n",
    "ax.errorbar(effort_long, data_long[:, 0], yerr=data_long[:, 1], ls=' ', marker='D',\n",
    "           label=r\"$N_{\\pi}=1e7$\")\n",
    "ax.errorbar(effort_optimal, data_optimal[:, 0], yerr=data_optimal[:, 1], ls=' ', marker='o',\n",
    "           label=r\"$N_{\\pi}=N_{C}$\")\n",
    "ax.legend(loc=2)"
   ]
  },
  {
   "cell_type": "code",
   "execution_count": 20,
   "metadata": {
    "collapsed": false
   },
   "outputs": [
    {
     "data": {
      "text/plain": [
       "<matplotlib.legend.Legend at 0x7f0295c33650>"
      ]
     },
     "execution_count": 20,
     "metadata": {},
     "output_type": "execute_result"
    },
    {
     "data": {
      "image/png": "[encoded data removed]",
      "text/plain": [
       "<matplotlib.figure.Figure at 0x7f02a2db8410>"
      ]
     },
     "metadata": {},
     "output_type": "display_data"
    }
   ],
   "source": [
    "fig = plt.figure()\n",
    "ax = fig.add_subplot(111)\n",
    "ax.set_xlabel(r\"Simulation effort, $N$, in steps\")\n",
    "ax.set_ylabel(r\"Relative error, $\\epsilon(t_2)$\")\n",
    "ax.set_xscale('log')\n",
    "ax.set_yscale('log')\n",
    "ax.set_xlim(2e5, 2e9)\n",
    "ax.plot(effort_nrev, data_nrev[:, 1]/data_nrev[:, 0], ls=':', marker='^',\n",
    "           label=r\"$N_{\\pi}=0$\")\n",
    "ax.plot(effort_short, data_short[:, 1]/data_short[:, 0], ls=':', marker='x',\n",
    "        label=r\"$N_{\\pi}=1e6$\")\n",
    "ax.plot(effort_long, data_long[:, 1]/data_long[:, 0], ls=':', marker='D',\n",
    "           label=r\"$N_{\\pi}=1e7$\")\n",
    "ax.plot(effort_optimal, data_optimal[:, 1]/data_optimal[:, 0], ls=':', marker='o',\n",
    "           label=r\"$N_{\\pi}=N_{C}$\")\n",
    "ax.legend(loc=4)"
   ]
  },
  {
   "cell_type": "markdown",
   "metadata": {
    "collapsed": true
   },
   "source": [
    "References\n",
    "------------\n",
    "\n",
    "[1] Prinz, J.-H., H. Wu, M. Sarich, B. G. Keller, M. Senne, M. Held, J. D. Chodera, Ch. Schütte and F. Noé: Markov models of molecular kinetics: Generation and Validation. J. Chem. Phys. 134, 174105 (2011)\n",
    "\n",
    "[2] Sarich, M., F. Noé, Ch. Schütte: On the Approximation Quality of Markov State Models. Multiscale Model. Simul. 8, 1154-1177 (2010)\n",
    "\n",
    "[3] Trendelkamp-Schroer, B. and Wu, H. and Paul, F. and Noé, F. (2015) Estimation and uncertainty of reversible Markov models. J. Chem. Phys., 143 . p. 174101.\n",
    "\n",
    "[4] N. Metropolis, A. Rosenbluth, M. Rosenbluth, A. Teller und E. Teller: Equation of State Calculations by Fast Computing Machines. In: Journal of Chemical Physics. 21, 1953, S. 1087-1092, "
   ]
  },
  {
   "cell_type": "code",
   "execution_count": null,
   "metadata": {
    "collapsed": true
   },
   "outputs": [],
   "source": []
  }
 ],
 "metadata": {
  "kernelspec": {
   "display_name": "Python 2",
   "language": "python",
   "name": "python2"
  },
  "language_info": {
   "codemirror_mode": {
    "name": "ipython",
    "version": 2
   },
   "file_extension": ".py",
   "mimetype": "text/x-python",
   "name": "python",
   "nbconvert_exporter": "python",
   "pygments_lexer": "ipython2",
   "version": "2.7.9"
  }
 },
 "nbformat": 4,
 "nbformat_minor": 0
}
